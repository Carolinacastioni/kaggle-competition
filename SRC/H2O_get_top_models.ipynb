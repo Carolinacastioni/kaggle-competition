{
 "cells": [
  {
   "cell_type": "code",
   "execution_count": 1,
   "metadata": {},
   "outputs": [],
   "source": [
    "from codes import open_file\n",
    "import pandas as pd\n",
    "import numpy as np\n",
    "from sklearn.model_selection import train_test_split\n",
    "from sklearn.ensemble import RandomForestRegressor\n",
    "import h2o\n",
    "from h2o.automl import H2OAutoML\n",
    "from h2o.estimators.glm import H2OGeneralizedLinearEstimator"
   ]
  },
  {
   "cell_type": "markdown",
   "metadata": {},
   "source": [
    "# H2O Auto ML"
   ]
  },
  {
   "cell_type": "code",
   "execution_count": 2,
   "metadata": {},
   "outputs": [
    {
     "name": "stdout",
     "output_type": "stream",
     "text": [
      "Checking whether there is an H2O instance running at http://localhost:54321 ..... not found.\n",
      "Attempting to start a local H2O server...\n",
      "  Java Version: openjdk version \"11.0.7\" 2020-04-14; OpenJDK Runtime Environment (build 11.0.7+10-post-Ubuntu-2ubuntu219.10); OpenJDK 64-Bit Server VM (build 11.0.7+10-post-Ubuntu-2ubuntu219.10, mixed mode, sharing)\n",
      "  Starting server from /home/carolina/.local/lib/python3.7/site-packages/h2o/backend/bin/h2o.jar\n",
      "  Ice root: /tmp/tmpfpndepfe\n",
      "  JVM stdout: /tmp/tmpfpndepfe/h2o_carolina_started_from_python.out\n",
      "  JVM stderr: /tmp/tmpfpndepfe/h2o_carolina_started_from_python.err\n",
      "  Server is running at http://127.0.0.1:54321\n",
      "Connecting to H2O server at http://127.0.0.1:54321 ... successful.\n"
     ]
    },
    {
     "data": {
      "text/html": [
       "<div style=\"overflow:auto\"><table style=\"width:50%\"><tr><td>H2O_cluster_uptime:</td>\n",
       "<td>01 secs</td></tr>\n",
       "<tr><td>H2O_cluster_timezone:</td>\n",
       "<td>Europe/Madrid</td></tr>\n",
       "<tr><td>H2O_data_parsing_timezone:</td>\n",
       "<td>UTC</td></tr>\n",
       "<tr><td>H2O_cluster_version:</td>\n",
       "<td>3.30.0.2</td></tr>\n",
       "<tr><td>H2O_cluster_version_age:</td>\n",
       "<td>12 days </td></tr>\n",
       "<tr><td>H2O_cluster_name:</td>\n",
       "<td>H2O_from_python_carolina_y9zfv6</td></tr>\n",
       "<tr><td>H2O_cluster_total_nodes:</td>\n",
       "<td>1</td></tr>\n",
       "<tr><td>H2O_cluster_free_memory:</td>\n",
       "<td>1.908 Gb</td></tr>\n",
       "<tr><td>H2O_cluster_total_cores:</td>\n",
       "<td>8</td></tr>\n",
       "<tr><td>H2O_cluster_allowed_cores:</td>\n",
       "<td>8</td></tr>\n",
       "<tr><td>H2O_cluster_status:</td>\n",
       "<td>accepting new members, healthy</td></tr>\n",
       "<tr><td>H2O_connection_url:</td>\n",
       "<td>http://127.0.0.1:54321</td></tr>\n",
       "<tr><td>H2O_connection_proxy:</td>\n",
       "<td>{\"http\": null, \"https\": null}</td></tr>\n",
       "<tr><td>H2O_internal_security:</td>\n",
       "<td>False</td></tr>\n",
       "<tr><td>H2O_API_Extensions:</td>\n",
       "<td>Amazon S3, XGBoost, Algos, AutoML, Core V3, TargetEncoder, Core V4</td></tr>\n",
       "<tr><td>Python_version:</td>\n",
       "<td>3.7.5 final</td></tr></table></div>"
      ],
      "text/plain": [
       "--------------------------  ------------------------------------------------------------------\n",
       "H2O_cluster_uptime:         01 secs\n",
       "H2O_cluster_timezone:       Europe/Madrid\n",
       "H2O_data_parsing_timezone:  UTC\n",
       "H2O_cluster_version:        3.30.0.2\n",
       "H2O_cluster_version_age:    12 days\n",
       "H2O_cluster_name:           H2O_from_python_carolina_y9zfv6\n",
       "H2O_cluster_total_nodes:    1\n",
       "H2O_cluster_free_memory:    1.908 Gb\n",
       "H2O_cluster_total_cores:    8\n",
       "H2O_cluster_allowed_cores:  8\n",
       "H2O_cluster_status:         accepting new members, healthy\n",
       "H2O_connection_url:         http://127.0.0.1:54321\n",
       "H2O_connection_proxy:       {\"http\": null, \"https\": null}\n",
       "H2O_internal_security:      False\n",
       "H2O_API_Extensions:         Amazon S3, XGBoost, Algos, AutoML, Core V3, TargetEncoder, Core V4\n",
       "Python_version:             3.7.5 final\n",
       "--------------------------  ------------------------------------------------------------------"
      ]
     },
     "metadata": {},
     "output_type": "display_data"
    }
   ],
   "source": [
    "h2o.init()"
   ]
  },
  {
   "cell_type": "code",
   "execution_count": 3,
   "metadata": {},
   "outputs": [
    {
     "name": "stdout",
     "output_type": "stream",
     "text": [
      "Parse progress: |█████████████████████████████████████████████████████████| 100%\n"
     ]
    }
   ],
   "source": [
    "train = h2o.import_file(\"../Output/d_train.csv\")"
   ]
  },
  {
   "cell_type": "code",
   "execution_count": 4,
   "metadata": {},
   "outputs": [
    {
     "data": {
      "text/html": [
       "<table>\n",
       "<thead>\n",
       "<tr><th style=\"text-align: right;\">  C1</th><th style=\"text-align: right;\">  id</th><th style=\"text-align: right;\">  carat</th><th style=\"text-align: right;\">  depth</th><th style=\"text-align: right;\">  table</th><th style=\"text-align: right;\">  cut_c</th><th style=\"text-align: right;\">  color_c</th><th style=\"text-align: right;\">  clarity_c</th><th style=\"text-align: right;\">   y</th></tr>\n",
       "</thead>\n",
       "<tbody>\n",
       "<tr><td style=\"text-align: right;\">   0</td><td style=\"text-align: right;\">   0</td><td style=\"text-align: right;\">   1.21</td><td style=\"text-align: right;\">   63  </td><td style=\"text-align: right;\">   57  </td><td style=\"text-align: right;\">      4</td><td style=\"text-align: right;\">        2</td><td style=\"text-align: right;\">          3</td><td style=\"text-align: right;\">6134</td></tr>\n",
       "<tr><td style=\"text-align: right;\">   1</td><td style=\"text-align: right;\">   1</td><td style=\"text-align: right;\">   0.28</td><td style=\"text-align: right;\">   64  </td><td style=\"text-align: right;\">   56  </td><td style=\"text-align: right;\">      2</td><td style=\"text-align: right;\">        6</td><td style=\"text-align: right;\">          5</td><td style=\"text-align: right;\"> 532</td></tr>\n",
       "<tr><td style=\"text-align: right;\">   2</td><td style=\"text-align: right;\">   2</td><td style=\"text-align: right;\">   0.42</td><td style=\"text-align: right;\">   61.2</td><td style=\"text-align: right;\">   58  </td><td style=\"text-align: right;\">      3</td><td style=\"text-align: right;\">        4</td><td style=\"text-align: right;\">          4</td><td style=\"text-align: right;\">1103</td></tr>\n",
       "<tr><td style=\"text-align: right;\">   3</td><td style=\"text-align: right;\">   3</td><td style=\"text-align: right;\">   0.26</td><td style=\"text-align: right;\">   61.1</td><td style=\"text-align: right;\">   57  </td><td style=\"text-align: right;\">      4</td><td style=\"text-align: right;\">        2</td><td style=\"text-align: right;\">          7</td><td style=\"text-align: right;\"> 600</td></tr>\n",
       "<tr><td style=\"text-align: right;\">   4</td><td style=\"text-align: right;\">   4</td><td style=\"text-align: right;\">   1.1 </td><td style=\"text-align: right;\">   63.4</td><td style=\"text-align: right;\">   57  </td><td style=\"text-align: right;\">      1</td><td style=\"text-align: right;\">        3</td><td style=\"text-align: right;\">          2</td><td style=\"text-align: right;\">4997</td></tr>\n",
       "<tr><td style=\"text-align: right;\">   5</td><td style=\"text-align: right;\">   5</td><td style=\"text-align: right;\">   0.35</td><td style=\"text-align: right;\">   62.2</td><td style=\"text-align: right;\">   56  </td><td style=\"text-align: right;\">      4</td><td style=\"text-align: right;\">        4</td><td style=\"text-align: right;\">          2</td><td style=\"text-align: right;\"> 583</td></tr>\n",
       "<tr><td style=\"text-align: right;\">   6</td><td style=\"text-align: right;\">   6</td><td style=\"text-align: right;\">   0.31</td><td style=\"text-align: right;\">   62.3</td><td style=\"text-align: right;\">   54  </td><td style=\"text-align: right;\">      4</td><td style=\"text-align: right;\">        1</td><td style=\"text-align: right;\">          3</td><td style=\"text-align: right;\"> 452</td></tr>\n",
       "<tr><td style=\"text-align: right;\">   7</td><td style=\"text-align: right;\">   7</td><td style=\"text-align: right;\">   0.43</td><td style=\"text-align: right;\">   60.2</td><td style=\"text-align: right;\">   57  </td><td style=\"text-align: right;\">      3</td><td style=\"text-align: right;\">        2</td><td style=\"text-align: right;\">          2</td><td style=\"text-align: right;\"> 919</td></tr>\n",
       "<tr><td style=\"text-align: right;\">   8</td><td style=\"text-align: right;\">   8</td><td style=\"text-align: right;\">   0.51</td><td style=\"text-align: right;\">   60.4</td><td style=\"text-align: right;\">   59  </td><td style=\"text-align: right;\">      3</td><td style=\"text-align: right;\">        1</td><td style=\"text-align: right;\">          1</td><td style=\"text-align: right;\"> 956</td></tr>\n",
       "<tr><td style=\"text-align: right;\">   9</td><td style=\"text-align: right;\">   9</td><td style=\"text-align: right;\">   1.22</td><td style=\"text-align: right;\">   61.9</td><td style=\"text-align: right;\">   55.7</td><td style=\"text-align: right;\">      4</td><td style=\"text-align: right;\">        1</td><td style=\"text-align: right;\">          4</td><td style=\"text-align: right;\">6469</td></tr>\n",
       "</tbody>\n",
       "</table>"
      ]
     },
     "metadata": {},
     "output_type": "display_data"
    },
    {
     "data": {
      "text/plain": []
     },
     "execution_count": 4,
     "metadata": {},
     "output_type": "execute_result"
    }
   ],
   "source": [
    "train.head()"
   ]
  },
  {
   "cell_type": "code",
   "execution_count": 5,
   "metadata": {},
   "outputs": [],
   "source": [
    "train = train.na_omit()"
   ]
  },
  {
   "cell_type": "code",
   "execution_count": 6,
   "metadata": {},
   "outputs": [
    {
     "data": {
      "text/html": [
       "<table>\n",
       "<thead>\n",
       "<tr><th style=\"text-align: right;\">  C1</th><th style=\"text-align: right;\">  id</th><th style=\"text-align: right;\">  carat</th><th style=\"text-align: right;\">  depth</th><th style=\"text-align: right;\">  table</th><th style=\"text-align: right;\">  cut_c</th><th style=\"text-align: right;\">  color_c</th><th style=\"text-align: right;\">  clarity_c</th><th style=\"text-align: right;\">   y</th></tr>\n",
       "</thead>\n",
       "<tbody>\n",
       "<tr><td style=\"text-align: right;\">   0</td><td style=\"text-align: right;\">   0</td><td style=\"text-align: right;\">   1.21</td><td style=\"text-align: right;\">   63  </td><td style=\"text-align: right;\">   57  </td><td style=\"text-align: right;\">      4</td><td style=\"text-align: right;\">        2</td><td style=\"text-align: right;\">          3</td><td style=\"text-align: right;\">6134</td></tr>\n",
       "<tr><td style=\"text-align: right;\">   1</td><td style=\"text-align: right;\">   1</td><td style=\"text-align: right;\">   0.28</td><td style=\"text-align: right;\">   64  </td><td style=\"text-align: right;\">   56  </td><td style=\"text-align: right;\">      2</td><td style=\"text-align: right;\">        6</td><td style=\"text-align: right;\">          5</td><td style=\"text-align: right;\"> 532</td></tr>\n",
       "<tr><td style=\"text-align: right;\">   2</td><td style=\"text-align: right;\">   2</td><td style=\"text-align: right;\">   0.42</td><td style=\"text-align: right;\">   61.2</td><td style=\"text-align: right;\">   58  </td><td style=\"text-align: right;\">      3</td><td style=\"text-align: right;\">        4</td><td style=\"text-align: right;\">          4</td><td style=\"text-align: right;\">1103</td></tr>\n",
       "<tr><td style=\"text-align: right;\">   3</td><td style=\"text-align: right;\">   3</td><td style=\"text-align: right;\">   0.26</td><td style=\"text-align: right;\">   61.1</td><td style=\"text-align: right;\">   57  </td><td style=\"text-align: right;\">      4</td><td style=\"text-align: right;\">        2</td><td style=\"text-align: right;\">          7</td><td style=\"text-align: right;\"> 600</td></tr>\n",
       "<tr><td style=\"text-align: right;\">   4</td><td style=\"text-align: right;\">   4</td><td style=\"text-align: right;\">   1.1 </td><td style=\"text-align: right;\">   63.4</td><td style=\"text-align: right;\">   57  </td><td style=\"text-align: right;\">      1</td><td style=\"text-align: right;\">        3</td><td style=\"text-align: right;\">          2</td><td style=\"text-align: right;\">4997</td></tr>\n",
       "<tr><td style=\"text-align: right;\">   5</td><td style=\"text-align: right;\">   5</td><td style=\"text-align: right;\">   0.35</td><td style=\"text-align: right;\">   62.2</td><td style=\"text-align: right;\">   56  </td><td style=\"text-align: right;\">      4</td><td style=\"text-align: right;\">        4</td><td style=\"text-align: right;\">          2</td><td style=\"text-align: right;\"> 583</td></tr>\n",
       "<tr><td style=\"text-align: right;\">   6</td><td style=\"text-align: right;\">   6</td><td style=\"text-align: right;\">   0.31</td><td style=\"text-align: right;\">   62.3</td><td style=\"text-align: right;\">   54  </td><td style=\"text-align: right;\">      4</td><td style=\"text-align: right;\">        1</td><td style=\"text-align: right;\">          3</td><td style=\"text-align: right;\"> 452</td></tr>\n",
       "<tr><td style=\"text-align: right;\">   7</td><td style=\"text-align: right;\">   7</td><td style=\"text-align: right;\">   0.43</td><td style=\"text-align: right;\">   60.2</td><td style=\"text-align: right;\">   57  </td><td style=\"text-align: right;\">      3</td><td style=\"text-align: right;\">        2</td><td style=\"text-align: right;\">          2</td><td style=\"text-align: right;\"> 919</td></tr>\n",
       "<tr><td style=\"text-align: right;\">   8</td><td style=\"text-align: right;\">   8</td><td style=\"text-align: right;\">   0.51</td><td style=\"text-align: right;\">   60.4</td><td style=\"text-align: right;\">   59  </td><td style=\"text-align: right;\">      3</td><td style=\"text-align: right;\">        1</td><td style=\"text-align: right;\">          1</td><td style=\"text-align: right;\"> 956</td></tr>\n",
       "<tr><td style=\"text-align: right;\">   9</td><td style=\"text-align: right;\">   9</td><td style=\"text-align: right;\">   1.22</td><td style=\"text-align: right;\">   61.9</td><td style=\"text-align: right;\">   55.7</td><td style=\"text-align: right;\">      4</td><td style=\"text-align: right;\">        1</td><td style=\"text-align: right;\">          4</td><td style=\"text-align: right;\">6469</td></tr>\n",
       "</tbody>\n",
       "</table>"
      ]
     },
     "metadata": {},
     "output_type": "display_data"
    },
    {
     "data": {
      "text/plain": []
     },
     "execution_count": 6,
     "metadata": {},
     "output_type": "execute_result"
    }
   ],
   "source": [
    "train.head()"
   ]
  },
  {
   "cell_type": "code",
   "execution_count": 7,
   "metadata": {},
   "outputs": [],
   "source": [
    "# Parameters\n",
    "\n",
    "y = 'y'\n",
    "\n",
    "training_frame = train\n",
    "\n",
    "max_models = 10"
   ]
  },
  {
   "cell_type": "code",
   "execution_count": 9,
   "metadata": {},
   "outputs": [],
   "source": [
    "# Run AutoML \n",
    "\n",
    "#aml = H2OAutoML(max_models=3)\n",
    "#aml.train(y=y, training_frame=train)\n",
    "\n",
    "#I need to run in colab, because my jupyter doesn't support this operation."
   ]
  },
  {
   "cell_type": "code",
   "execution_count": 10,
   "metadata": {},
   "outputs": [],
   "source": [
    "# lb = aml.leaderboard\n",
    "\n",
    "# In colab"
   ]
  },
  {
   "cell_type": "code",
   "execution_count": 13,
   "metadata": {},
   "outputs": [],
   "source": [
    "# lb.head(rows=lb.nrows)\n",
    "\n",
    "# in colab"
   ]
  },
  {
   "cell_type": "markdown",
   "metadata": {},
   "source": [
    "# Result"
   ]
  },
  {
   "cell_type": "markdown",
   "metadata": {},
   "source": [
    "model_id\tmean_residual_deviance\trmse\tmse\tmae\trmsle\n",
    "\n",
    "StackedEnsemble_AllModels_AutoML_20200511_160745\t288481\t537.104\t288481\t296.641\tnan\n",
    "\n",
    "XGBoost_3_AutoML_20200511_160745\t310010\t556.785\t310010\t320.137\tnan\n",
    "\n",
    "XGBoost_1_AutoML_20200511_160745\t366771\t605.616\t366771\t348.312\tnan\n",
    "\n",
    "XGBoost_2_AutoML_20200511_160745\t371475\t609.488\t371475\t365.161\tnan"
   ]
  },
  {
   "cell_type": "markdown",
   "metadata": {},
   "source": [
    "TOP MODEL: GradientBoosting"
   ]
  }
 ],
 "metadata": {
  "kernelspec": {
   "display_name": "Python 3",
   "language": "python",
   "name": "python3"
  },
  "language_info": {
   "codemirror_mode": {
    "name": "ipython",
    "version": 3
   },
   "file_extension": ".py",
   "mimetype": "text/x-python",
   "name": "python",
   "nbconvert_exporter": "python",
   "pygments_lexer": "ipython3",
   "version": "3.7.5"
  }
 },
 "nbformat": 4,
 "nbformat_minor": 4
}
