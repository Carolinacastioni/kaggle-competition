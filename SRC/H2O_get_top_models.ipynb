{
 "cells": [
  {
   "cell_type": "code",
   "execution_count": 1,
   "metadata": {},
   "outputs": [],
   "source": [
    "from codes import open_file\n",
    "import pandas as pd\n",
    "import numpy as np\n",
    "from sklearn.model_selection import train_test_split\n",
    "from sklearn.ensemble import RandomForestRegressor\n",
    "import h2o\n",
    "from h2o.automl import H2OAutoML\n",
    "from h2o.estimators.glm import H2OGeneralizedLinearEstimator"
   ]
  },
  {
   "cell_type": "markdown",
   "metadata": {},
   "source": [
    "# H2O Auto ML"
   ]
  },
  {
   "cell_type": "code",
   "execution_count": 2,
   "metadata": {},
   "outputs": [
    {
     "name": "stdout",
     "output_type": "stream",
     "text": [
      "Checking whether there is an H2O instance running at http://localhost:54321 . connected.\n"
     ]
    },
    {
     "data": {
      "text/html": [
       "<div style=\"overflow:auto\"><table style=\"width:50%\"><tr><td>H2O_cluster_uptime:</td>\n",
       "<td>14 mins 37 secs</td></tr>\n",
       "<tr><td>H2O_cluster_timezone:</td>\n",
       "<td>Europe/Madrid</td></tr>\n",
       "<tr><td>H2O_data_parsing_timezone:</td>\n",
       "<td>UTC</td></tr>\n",
       "<tr><td>H2O_cluster_version:</td>\n",
       "<td>3.30.0.2</td></tr>\n",
       "<tr><td>H2O_cluster_version_age:</td>\n",
       "<td>12 days </td></tr>\n",
       "<tr><td>H2O_cluster_name:</td>\n",
       "<td>H2O_from_python_carolina_ua4b48</td></tr>\n",
       "<tr><td>H2O_cluster_total_nodes:</td>\n",
       "<td>1</td></tr>\n",
       "<tr><td>H2O_cluster_free_memory:</td>\n",
       "<td>1.783 Gb</td></tr>\n",
       "<tr><td>H2O_cluster_total_cores:</td>\n",
       "<td>8</td></tr>\n",
       "<tr><td>H2O_cluster_allowed_cores:</td>\n",
       "<td>8</td></tr>\n",
       "<tr><td>H2O_cluster_status:</td>\n",
       "<td>locked, healthy</td></tr>\n",
       "<tr><td>H2O_connection_url:</td>\n",
       "<td>http://localhost:54321</td></tr>\n",
       "<tr><td>H2O_connection_proxy:</td>\n",
       "<td>{\"http\": null, \"https\": null}</td></tr>\n",
       "<tr><td>H2O_internal_security:</td>\n",
       "<td>False</td></tr>\n",
       "<tr><td>H2O_API_Extensions:</td>\n",
       "<td>Amazon S3, XGBoost, Algos, AutoML, Core V3, TargetEncoder, Core V4</td></tr>\n",
       "<tr><td>Python_version:</td>\n",
       "<td>3.7.5 final</td></tr></table></div>"
      ],
      "text/plain": [
       "--------------------------  ------------------------------------------------------------------\n",
       "H2O_cluster_uptime:         14 mins 37 secs\n",
       "H2O_cluster_timezone:       Europe/Madrid\n",
       "H2O_data_parsing_timezone:  UTC\n",
       "H2O_cluster_version:        3.30.0.2\n",
       "H2O_cluster_version_age:    12 days\n",
       "H2O_cluster_name:           H2O_from_python_carolina_ua4b48\n",
       "H2O_cluster_total_nodes:    1\n",
       "H2O_cluster_free_memory:    1.783 Gb\n",
       "H2O_cluster_total_cores:    8\n",
       "H2O_cluster_allowed_cores:  8\n",
       "H2O_cluster_status:         locked, healthy\n",
       "H2O_connection_url:         http://localhost:54321\n",
       "H2O_connection_proxy:       {\"http\": null, \"https\": null}\n",
       "H2O_internal_security:      False\n",
       "H2O_API_Extensions:         Amazon S3, XGBoost, Algos, AutoML, Core V3, TargetEncoder, Core V4\n",
       "Python_version:             3.7.5 final\n",
       "--------------------------  ------------------------------------------------------------------"
      ]
     },
     "metadata": {},
     "output_type": "display_data"
    },
    {
     "name": "stdout",
     "output_type": "stream",
     "text": [
      "Parse progress: |█████████████████████████████████████████████████████████| 100%\n"
     ]
    }
   ],
   "source": [
    "h2o.init()\n",
    "\n",
    "# Import a sample binary outcome train/test set into H2O\n",
    "d_train = h2o.import_file(\"../Output/d_train.csv\")"
   ]
  },
  {
   "cell_type": "code",
   "execution_count": 3,
   "metadata": {},
   "outputs": [
    {
     "name": "stdout",
     "output_type": "stream",
     "text": [
      "(39330, 9)\n"
     ]
    },
    {
     "data": {
      "text/html": [
       "<table>\n",
       "<thead>\n",
       "<tr><th style=\"text-align: right;\">  C1</th><th style=\"text-align: right;\">       C2</th><th style=\"text-align: right;\">       C3</th><th style=\"text-align: right;\">       C4</th><th style=\"text-align: right;\">        C5</th><th style=\"text-align: right;\">        C6</th><th style=\"text-align: right;\">        C7</th><th style=\"text-align: right;\">        C8</th><th style=\"text-align: right;\">  C9</th></tr>\n",
       "</thead>\n",
       "<tbody>\n",
       "<tr><td style=\"text-align: right;\"> nan</td><td style=\"text-align: right;\"> 0       </td><td style=\"text-align: right;\"> 1       </td><td style=\"text-align: right;\"> 2       </td><td style=\"text-align: right;\"> 3        </td><td style=\"text-align: right;\"> 4        </td><td style=\"text-align: right;\"> 5        </td><td style=\"text-align: right;\"> 6        </td><td style=\"text-align: right;\"> nan</td></tr>\n",
       "<tr><td style=\"text-align: right;\">   0</td><td style=\"text-align: right;\">-0.672434</td><td style=\"text-align: right;\"> 0.374798</td><td style=\"text-align: right;\"> 0.383579</td><td style=\"text-align: right;\">-0.0710064</td><td style=\"text-align: right;\"> 0.38169  </td><td style=\"text-align: right;\">-0.330279 </td><td style=\"text-align: right;\">-0.0203142</td><td style=\"text-align: right;\">6134</td></tr>\n",
       "<tr><td style=\"text-align: right;\">   1</td><td style=\"text-align: right;\">-0.493746</td><td style=\"text-align: right;\">-0.318373</td><td style=\"text-align: right;\"> 0.506668</td><td style=\"text-align: right;\">-0.187858 </td><td style=\"text-align: right;\">-0.253279 </td><td style=\"text-align: right;\"> 0.433971 </td><td style=\"text-align: right;\"> 0.33222  </td><td style=\"text-align: right;\"> 532</td></tr>\n",
       "<tr><td style=\"text-align: right;\">   2</td><td style=\"text-align: right;\">-0.831077</td><td style=\"text-align: right;\">-0.3855  </td><td style=\"text-align: right;\">-0.207628</td><td style=\"text-align: right;\"> 0.140686 </td><td style=\"text-align: right;\"> 0.0227221</td><td style=\"text-align: right;\"> 0.16113  </td><td style=\"text-align: right;\"> 0.267057 </td><td style=\"text-align: right;\">1103</td></tr>\n",
       "<tr><td style=\"text-align: right;\">   3</td><td style=\"text-align: right;\">-0.499659</td><td style=\"text-align: right;\">-0.335137</td><td style=\"text-align: right;\">-0.147608</td><td style=\"text-align: right;\">-0.0527699</td><td style=\"text-align: right;\"> 0.283661 </td><td style=\"text-align: right;\">-0.245454 </td><td style=\"text-align: right;\"> 0.687561 </td><td style=\"text-align: right;\"> 600</td></tr>\n",
       "<tr><td style=\"text-align: right;\">   4</td><td style=\"text-align: right;\">-0.574673</td><td style=\"text-align: right;\"> 0.238643</td><td style=\"text-align: right;\"> 0.432647</td><td style=\"text-align: right;\">-0.0606953</td><td style=\"text-align: right;\">-0.605385 </td><td style=\"text-align: right;\">-0.0854442</td><td style=\"text-align: right;\">-0.219411 </td><td style=\"text-align: right;\">4997</td></tr>\n",
       "<tr><td style=\"text-align: right;\">   5</td><td style=\"text-align: right;\">-0.707042</td><td style=\"text-align: right;\">-0.392007</td><td style=\"text-align: right;\"> 0.145604</td><td style=\"text-align: right;\">-0.269066 </td><td style=\"text-align: right;\"> 0.401433 </td><td style=\"text-align: right;\"> 0.137102 </td><td style=\"text-align: right;\">-0.269964 </td><td style=\"text-align: right;\"> 583</td></tr>\n",
       "<tr><td style=\"text-align: right;\">   6</td><td style=\"text-align: right;\">-0.549217</td><td style=\"text-align: right;\">-0.332925</td><td style=\"text-align: right;\"> 0.138143</td><td style=\"text-align: right;\">-0.511023 </td><td style=\"text-align: right;\"> 0.311842 </td><td style=\"text-align: right;\">-0.45801  </td><td style=\"text-align: right;\">-0.0165967</td><td style=\"text-align: right;\"> 452</td></tr>\n",
       "<tr><td style=\"text-align: right;\">   7</td><td style=\"text-align: right;\">-0.68996 </td><td style=\"text-align: right;\">-0.3112  </td><td style=\"text-align: right;\">-0.486931</td><td style=\"text-align: right;\">-0.0728824</td><td style=\"text-align: right;\"> 0.0188686</td><td style=\"text-align: right;\">-0.339005 </td><td style=\"text-align: right;\">-0.263468 </td><td style=\"text-align: right;\"> 919</td></tr>\n",
       "<tr><td style=\"text-align: right;\">   8</td><td style=\"text-align: right;\">-0.584169</td><td style=\"text-align: right;\">-0.203063</td><td style=\"text-align: right;\">-0.35903 </td><td style=\"text-align: right;\"> 0.259548 </td><td style=\"text-align: right;\"> 0.0159763</td><td style=\"text-align: right;\">-0.487206 </td><td style=\"text-align: right;\">-0.428508 </td><td style=\"text-align: right;\"> 956</td></tr>\n",
       "</tbody>\n",
       "</table>"
      ]
     },
     "metadata": {},
     "output_type": "display_data"
    },
    {
     "data": {
      "text/plain": []
     },
     "execution_count": 3,
     "metadata": {},
     "output_type": "execute_result"
    }
   ],
   "source": [
    "print(d_train.shape)\n",
    "d_train.head()"
   ]
  },
  {
   "cell_type": "code",
   "execution_count": 11,
   "metadata": {},
   "outputs": [],
   "source": [
    "training_frame = d_train\n",
    "\n",
    "y = d_train['C9']\n",
    "\n",
    "max_runtime_secs = 1"
   ]
  },
  {
   "cell_type": "code",
   "execution_count": null,
   "metadata": {},
   "outputs": [],
   "source": []
  },
  {
   "cell_type": "code",
   "execution_count": null,
   "metadata": {},
   "outputs": [],
   "source": []
  },
  {
   "cell_type": "code",
   "execution_count": null,
   "metadata": {},
   "outputs": [],
   "source": []
  },
  {
   "cell_type": "code",
   "execution_count": null,
   "metadata": {},
   "outputs": [],
   "source": []
  },
  {
   "cell_type": "code",
   "execution_count": null,
   "metadata": {},
   "outputs": [],
   "source": []
  },
  {
   "cell_type": "code",
   "execution_count": null,
   "metadata": {},
   "outputs": [],
   "source": []
  },
  {
   "cell_type": "code",
   "execution_count": null,
   "metadata": {},
   "outputs": [],
   "source": []
  },
  {
   "cell_type": "code",
   "execution_count": null,
   "metadata": {},
   "outputs": [],
   "source": []
  },
  {
   "cell_type": "markdown",
   "metadata": {},
   "source": [
    "# Link"
   ]
  },
  {
   "cell_type": "markdown",
   "metadata": {},
   "source": [
    "https://towardsdatascience.com/hyperparameter-tuning-the-random-forest-in-python-using-scikit-learn-28d2aa77dd74"
   ]
  },
  {
   "cell_type": "code",
   "execution_count": null,
   "metadata": {},
   "outputs": [],
   "source": []
  },
  {
   "cell_type": "code",
   "execution_count": null,
   "metadata": {},
   "outputs": [],
   "source": []
  },
  {
   "cell_type": "code",
   "execution_count": null,
   "metadata": {},
   "outputs": [],
   "source": []
  },
  {
   "cell_type": "code",
   "execution_count": null,
   "metadata": {},
   "outputs": [],
   "source": []
  },
  {
   "cell_type": "code",
   "execution_count": null,
   "metadata": {},
   "outputs": [],
   "source": []
  },
  {
   "cell_type": "code",
   "execution_count": null,
   "metadata": {},
   "outputs": [],
   "source": []
  },
  {
   "cell_type": "code",
   "execution_count": null,
   "metadata": {},
   "outputs": [],
   "source": []
  },
  {
   "cell_type": "code",
   "execution_count": null,
   "metadata": {},
   "outputs": [],
   "source": []
  },
  {
   "cell_type": "code",
   "execution_count": null,
   "metadata": {},
   "outputs": [],
   "source": []
  }
 ],
 "metadata": {
  "kernelspec": {
   "display_name": "Python 3",
   "language": "python",
   "name": "python3"
  },
  "language_info": {
   "codemirror_mode": {
    "name": "ipython",
    "version": 3
   },
   "file_extension": ".py",
   "mimetype": "text/x-python",
   "name": "python",
   "nbconvert_exporter": "python",
   "pygments_lexer": "ipython3",
   "version": "3.7.5"
  }
 },
 "nbformat": 4,
 "nbformat_minor": 4
}
