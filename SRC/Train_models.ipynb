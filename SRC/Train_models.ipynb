{
 "cells": [
  {
   "cell_type": "code",
   "execution_count": 1,
   "metadata": {},
   "outputs": [],
   "source": [
    "from codes import open_file\n",
    "import pandas as pd\n",
    "import numpy as np\n",
    "from sklearn.model_selection import train_test_split\n",
    "from sklearn.ensemble import RandomForestRegressor\n",
    "from sklearn.linear_model import LinearRegression\n",
    "from sklearn.neighbors import KNeighborsRegressor\n",
    "from sklearn.ensemble import GradientBoostingRegressor\n",
    "from sklearn.tree import DecisionTreeRegressor\n",
    "from sklearn.svm import SVR\n",
    "from sklearn.model_selection import cross_val_score\n",
    "from sklearn.metrics import mean_squared_error"
   ]
  },
  {
   "cell_type": "code",
   "execution_count": 2,
   "metadata": {},
   "outputs": [],
   "source": [
    "d_train = open_file(\"../Output/d_train.csv\")"
   ]
  },
  {
   "cell_type": "code",
   "execution_count": 3,
   "metadata": {},
   "outputs": [
    {
     "name": "stdout",
     "output_type": "stream",
     "text": [
      "(39329, 9)\n"
     ]
    },
    {
     "data": {
      "text/html": [
       "<div>\n",
       "<style scoped>\n",
       "    .dataframe tbody tr th:only-of-type {\n",
       "        vertical-align: middle;\n",
       "    }\n",
       "\n",
       "    .dataframe tbody tr th {\n",
       "        vertical-align: top;\n",
       "    }\n",
       "\n",
       "    .dataframe thead th {\n",
       "        text-align: right;\n",
       "    }\n",
       "</style>\n",
       "<table border=\"1\" class=\"dataframe\">\n",
       "  <thead>\n",
       "    <tr style=\"text-align: right;\">\n",
       "      <th></th>\n",
       "      <th>Unnamed: 0</th>\n",
       "      <th>0</th>\n",
       "      <th>1</th>\n",
       "      <th>2</th>\n",
       "      <th>3</th>\n",
       "      <th>4</th>\n",
       "      <th>5</th>\n",
       "      <th>6</th>\n",
       "      <th>y</th>\n",
       "    </tr>\n",
       "  </thead>\n",
       "  <tbody>\n",
       "    <tr>\n",
       "      <th>0</th>\n",
       "      <td>0</td>\n",
       "      <td>-0.672434</td>\n",
       "      <td>0.374798</td>\n",
       "      <td>0.383579</td>\n",
       "      <td>-0.071006</td>\n",
       "      <td>0.381690</td>\n",
       "      <td>-0.330279</td>\n",
       "      <td>-0.020314</td>\n",
       "      <td>6134</td>\n",
       "    </tr>\n",
       "    <tr>\n",
       "      <th>1</th>\n",
       "      <td>1</td>\n",
       "      <td>-0.493746</td>\n",
       "      <td>-0.318373</td>\n",
       "      <td>0.506668</td>\n",
       "      <td>-0.187858</td>\n",
       "      <td>-0.253279</td>\n",
       "      <td>0.433971</td>\n",
       "      <td>0.332220</td>\n",
       "      <td>532</td>\n",
       "    </tr>\n",
       "    <tr>\n",
       "      <th>2</th>\n",
       "      <td>2</td>\n",
       "      <td>-0.831077</td>\n",
       "      <td>-0.385500</td>\n",
       "      <td>-0.207628</td>\n",
       "      <td>0.140686</td>\n",
       "      <td>0.022722</td>\n",
       "      <td>0.161130</td>\n",
       "      <td>0.267057</td>\n",
       "      <td>1103</td>\n",
       "    </tr>\n",
       "    <tr>\n",
       "      <th>3</th>\n",
       "      <td>3</td>\n",
       "      <td>-0.499659</td>\n",
       "      <td>-0.335137</td>\n",
       "      <td>-0.147608</td>\n",
       "      <td>-0.052770</td>\n",
       "      <td>0.283661</td>\n",
       "      <td>-0.245454</td>\n",
       "      <td>0.687561</td>\n",
       "      <td>600</td>\n",
       "    </tr>\n",
       "    <tr>\n",
       "      <th>4</th>\n",
       "      <td>4</td>\n",
       "      <td>-0.574673</td>\n",
       "      <td>0.238643</td>\n",
       "      <td>0.432647</td>\n",
       "      <td>-0.060695</td>\n",
       "      <td>-0.605385</td>\n",
       "      <td>-0.085444</td>\n",
       "      <td>-0.219411</td>\n",
       "      <td>4997</td>\n",
       "    </tr>\n",
       "  </tbody>\n",
       "</table>\n",
       "</div>"
      ],
      "text/plain": [
       "   Unnamed: 0         0         1         2         3         4         5  \\\n",
       "0           0 -0.672434  0.374798  0.383579 -0.071006  0.381690 -0.330279   \n",
       "1           1 -0.493746 -0.318373  0.506668 -0.187858 -0.253279  0.433971   \n",
       "2           2 -0.831077 -0.385500 -0.207628  0.140686  0.022722  0.161130   \n",
       "3           3 -0.499659 -0.335137 -0.147608 -0.052770  0.283661 -0.245454   \n",
       "4           4 -0.574673  0.238643  0.432647 -0.060695 -0.605385 -0.085444   \n",
       "\n",
       "          6     y  \n",
       "0 -0.020314  6134  \n",
       "1  0.332220   532  \n",
       "2  0.267057  1103  \n",
       "3  0.687561   600  \n",
       "4 -0.219411  4997  "
      ]
     },
     "execution_count": 3,
     "metadata": {},
     "output_type": "execute_result"
    }
   ],
   "source": [
    "print(d_train.shape)\n",
    "d_train.head()"
   ]
  },
  {
   "cell_type": "code",
   "execution_count": 4,
   "metadata": {},
   "outputs": [],
   "source": [
    "d_test = open_file(\"../Output/d_test.csv\")"
   ]
  },
  {
   "cell_type": "code",
   "execution_count": 5,
   "metadata": {},
   "outputs": [
    {
     "name": "stdout",
     "output_type": "stream",
     "text": [
      "(13449, 8)\n"
     ]
    },
    {
     "data": {
      "text/html": [
       "<div>\n",
       "<style scoped>\n",
       "    .dataframe tbody tr th:only-of-type {\n",
       "        vertical-align: middle;\n",
       "    }\n",
       "\n",
       "    .dataframe tbody tr th {\n",
       "        vertical-align: top;\n",
       "    }\n",
       "\n",
       "    .dataframe thead th {\n",
       "        text-align: right;\n",
       "    }\n",
       "</style>\n",
       "<table border=\"1\" class=\"dataframe\">\n",
       "  <thead>\n",
       "    <tr style=\"text-align: right;\">\n",
       "      <th></th>\n",
       "      <th>Unnamed: 0</th>\n",
       "      <th>0</th>\n",
       "      <th>1</th>\n",
       "      <th>2</th>\n",
       "      <th>3</th>\n",
       "      <th>4</th>\n",
       "      <th>5</th>\n",
       "      <th>6</th>\n",
       "    </tr>\n",
       "  </thead>\n",
       "  <tbody>\n",
       "    <tr>\n",
       "      <th>0</th>\n",
       "      <td>0</td>\n",
       "      <td>-0.573731</td>\n",
       "      <td>-0.347220</td>\n",
       "      <td>-0.398643</td>\n",
       "      <td>-0.215752</td>\n",
       "      <td>0.324196</td>\n",
       "      <td>-0.266921</td>\n",
       "      <td>-0.410432</td>\n",
       "    </tr>\n",
       "    <tr>\n",
       "      <th>1</th>\n",
       "      <td>1</td>\n",
       "      <td>-0.477602</td>\n",
       "      <td>-0.266150</td>\n",
       "      <td>0.068420</td>\n",
       "      <td>-0.055877</td>\n",
       "      <td>0.269917</td>\n",
       "      <td>0.419759</td>\n",
       "      <td>0.666487</td>\n",
       "    </tr>\n",
       "    <tr>\n",
       "      <th>2</th>\n",
       "      <td>2</td>\n",
       "      <td>-0.571817</td>\n",
       "      <td>0.525832</td>\n",
       "      <td>-0.328951</td>\n",
       "      <td>0.081276</td>\n",
       "      <td>-0.267636</td>\n",
       "      <td>-0.458297</td>\n",
       "      <td>-0.006762</td>\n",
       "    </tr>\n",
       "    <tr>\n",
       "      <th>3</th>\n",
       "      <td>3</td>\n",
       "      <td>-0.724941</td>\n",
       "      <td>-0.430222</td>\n",
       "      <td>0.017053</td>\n",
       "      <td>-0.084840</td>\n",
       "      <td>0.409823</td>\n",
       "      <td>-0.337420</td>\n",
       "      <td>-0.008575</td>\n",
       "    </tr>\n",
       "    <tr>\n",
       "      <th>4</th>\n",
       "      <td>4</td>\n",
       "      <td>-0.419889</td>\n",
       "      <td>0.355977</td>\n",
       "      <td>0.378748</td>\n",
       "      <td>0.277392</td>\n",
       "      <td>-0.413581</td>\n",
       "      <td>-0.336630</td>\n",
       "      <td>0.438416</td>\n",
       "    </tr>\n",
       "  </tbody>\n",
       "</table>\n",
       "</div>"
      ],
      "text/plain": [
       "   Unnamed: 0         0         1         2         3         4         5  \\\n",
       "0           0 -0.573731 -0.347220 -0.398643 -0.215752  0.324196 -0.266921   \n",
       "1           1 -0.477602 -0.266150  0.068420 -0.055877  0.269917  0.419759   \n",
       "2           2 -0.571817  0.525832 -0.328951  0.081276 -0.267636 -0.458297   \n",
       "3           3 -0.724941 -0.430222  0.017053 -0.084840  0.409823 -0.337420   \n",
       "4           4 -0.419889  0.355977  0.378748  0.277392 -0.413581 -0.336630   \n",
       "\n",
       "          6  \n",
       "0 -0.410432  \n",
       "1  0.666487  \n",
       "2 -0.006762  \n",
       "3 -0.008575  \n",
       "4  0.438416  "
      ]
     },
     "execution_count": 5,
     "metadata": {},
     "output_type": "execute_result"
    }
   ],
   "source": [
    "print(d_test.shape)\n",
    "d_test.head()"
   ]
  },
  {
   "cell_type": "markdown",
   "metadata": {},
   "source": [
    "# Train"
   ]
  },
  {
   "cell_type": "code",
   "execution_count": 6,
   "metadata": {},
   "outputs": [],
   "source": [
    "X = d_train.drop(columns=['y'])\n",
    "y = d_train['y']"
   ]
  },
  {
   "cell_type": "code",
   "execution_count": 7,
   "metadata": {},
   "outputs": [],
   "source": [
    "X_train, X_test, y_train, y_test = train_test_split(X, y,test_size=0.2)"
   ]
  },
  {
   "cell_type": "markdown",
   "metadata": {},
   "source": [
    "# Models"
   ]
  },
  {
   "cell_type": "code",
   "execution_count": 8,
   "metadata": {},
   "outputs": [],
   "source": [
    "models = {\n",
    "    \"RandomForest\": RandomForestRegressor(n_estimators=1000, warm_start=False, min_samples_leaf=2, min_samples_split=4),\n",
    "    \"LinearRegression\": LinearRegression(),\n",
    "    \"KNeighbors\": KNeighborsRegressor(),\n",
    "    \"GradientBoostingRegressor\": GradientBoostingRegressor(n_estimators=100, learning_rate=0.1,max_depth=1, random_state=0, loss='ls'),\n",
    "    \"DecisionTreeRegressor\": DecisionTreeRegressor(random_state=0),\n",
    "    \"SVR\": SVR(C=1.0, epsilon=0.2)\n",
    "}"
   ]
  },
  {
   "cell_type": "markdown",
   "metadata": {},
   "source": [
    "# Check Models"
   ]
  },
  {
   "cell_type": "code",
   "execution_count": 9,
   "metadata": {},
   "outputs": [
    {
     "name": "stdout",
     "output_type": "stream",
     "text": [
      "Training RandomForest...\n",
      "Training LinearRegression...\n",
      "Training KNeighbors...\n",
      "Training GradientBoostingRegressor...\n",
      "Training DecisionTreeRegressor...\n",
      "Training SVR...\n"
     ]
    }
   ],
   "source": [
    "for name,model  in models.items():\n",
    "    print(f\"Training {name}...\")\n",
    "    model.fit(X_train, y_train)"
   ]
  },
  {
   "cell_type": "code",
   "execution_count": 26,
   "metadata": {},
   "outputs": [
    {
     "name": "stdout",
     "output_type": "stream",
     "text": [
      "RandomForest RMSE: 161.424\n",
      "LinearRegression RMSE: 155.21\n",
      "KNeighbors RMSE: 187.085\n",
      "GradientBoostingRegressor RMSE: 155.2\n",
      "DecisionTreeRegressor RMSE: 337.243\n",
      "SVR RMSE: 178.615\n"
     ]
    }
   ],
   "source": [
    "for name, model in models.items():\n",
    "    y_pred_t = model.predict(X_test)\n",
    "    RMSE = mean_squared_error(y_test, y_pred_t)\n",
    "    print(f'{name} RMSE:', round(RMSE/100000, 3))"
   ]
  },
  {
   "cell_type": "code",
   "execution_count": 11,
   "metadata": {},
   "outputs": [
    {
     "name": "stdout",
     "output_type": "stream",
     "text": [
      "RandomForest:\n",
      "[-0.04055939 -0.03843596 -0.03698147 -0.04393291 -0.03971352]\n",
      "LinearRegression:\n",
      "[-5.23167283e-05 -9.08841023e-05 -1.51155390e-03 -7.51651376e-04\n",
      " -5.69145746e-05]\n",
      "KNeighbors:\n",
      "[-0.18773663 -0.19734182 -0.19022498 -0.17826057 -0.18893673]\n",
      "GradientBoostingRegressor:\n",
      "[-0.00093386 -0.00024981 -0.0012076  -0.00249329  0.00055878]\n",
      "DecisionTreeRegressor:\n",
      "[-1.09256412 -1.06453432 -1.16169031 -0.96975549 -1.15146309]\n",
      "SVR:\n",
      "[-0.13827458 -0.14808838 -0.15409647 -0.14484365 -0.15263972]\n"
     ]
    }
   ],
   "source": [
    "for name, model in models.items():\n",
    "    print(f'{name}:')\n",
    "    print(cross_val_score(model, X_train, y_train))"
   ]
  },
  {
   "cell_type": "markdown",
   "metadata": {},
   "source": [
    "# Select the best models"
   ]
  },
  {
   "cell_type": "markdown",
   "metadata": {},
   "source": [
    "The best models are the ones with the lowest RMSE:\n",
    "- GradientBoostingRegressor\n",
    "- LinearRegression\n",
    "- RandomForest"
   ]
  },
  {
   "cell_type": "markdown",
   "metadata": {},
   "source": [
    "# Convert the top models in CSV"
   ]
  },
  {
   "cell_type": "code",
   "execution_count": null,
   "metadata": {},
   "outputs": [],
   "source": [
    "result = pd.DataFrame({\"id\":range(len(y_pred)),\"price\":y_pred})"
   ]
  },
  {
   "cell_type": "code",
   "execution_count": null,
   "metadata": {},
   "outputs": [],
   "source": [
    "print(result.shape)\n",
    "result.head()"
   ]
  },
  {
   "cell_type": "code",
   "execution_count": null,
   "metadata": {},
   "outputs": [],
   "source": [
    "result.to_csv(\"../Output/submission_1.csv\", index=False)"
   ]
  },
  {
   "cell_type": "code",
   "execution_count": null,
   "metadata": {},
   "outputs": [],
   "source": []
  }
 ],
 "metadata": {
  "kernelspec": {
   "display_name": "Python 3",
   "language": "python",
   "name": "python3"
  },
  "language_info": {
   "codemirror_mode": {
    "name": "ipython",
    "version": 3
   },
   "file_extension": ".py",
   "mimetype": "text/x-python",
   "name": "python",
   "nbconvert_exporter": "python",
   "pygments_lexer": "ipython3",
   "version": "3.7.5"
  }
 },
 "nbformat": 4,
 "nbformat_minor": 4
}
